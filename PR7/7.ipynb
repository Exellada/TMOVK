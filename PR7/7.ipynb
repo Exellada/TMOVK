{
  "nbformat": 4,
  "nbformat_minor": 0,
  "metadata": {
    "colab": {
      "provenance": []
    },
    "kernelspec": {
      "name": "python3",
      "display_name": "Python 3"
    },
    "language_info": {
      "name": "python"
    },
    "widgets": {
      "application/vnd.jupyter.widget-state+json": {
        "c6b7683de4d24d0c9f6a1844702a7264": {
          "model_module": "@jupyter-widgets/controls",
          "model_name": "HBoxModel",
          "model_module_version": "1.5.0",
          "state": {
            "_dom_classes": [],
            "_model_module": "@jupyter-widgets/controls",
            "_model_module_version": "1.5.0",
            "_model_name": "HBoxModel",
            "_view_count": null,
            "_view_module": "@jupyter-widgets/controls",
            "_view_module_version": "1.5.0",
            "_view_name": "HBoxView",
            "box_style": "",
            "children": [
              "IPY_MODEL_da0fb0d74f7b4301bad4644baa9b9b53",
              "IPY_MODEL_3cf585a5ce254c1daba6b34c6c9685da",
              "IPY_MODEL_f1103d55d0a14894996a2272d875808a"
            ],
            "layout": "IPY_MODEL_7859dda4dc934d8a849c029b21b7947f"
          }
        },
        "da0fb0d74f7b4301bad4644baa9b9b53": {
          "model_module": "@jupyter-widgets/controls",
          "model_name": "HTMLModel",
          "model_module_version": "1.5.0",
          "state": {
            "_dom_classes": [],
            "_model_module": "@jupyter-widgets/controls",
            "_model_module_version": "1.5.0",
            "_model_name": "HTMLModel",
            "_view_count": null,
            "_view_module": "@jupyter-widgets/controls",
            "_view_module_version": "1.5.0",
            "_view_name": "HTMLView",
            "description": "",
            "description_tooltip": null,
            "layout": "IPY_MODEL_536c3a8555a34ecba121f86c60838590",
            "placeholder": "​",
            "style": "IPY_MODEL_a60b40048db14cf59834fb7d66b4e2e9",
            "value": "Precompute adv samples: 100%"
          }
        },
        "3cf585a5ce254c1daba6b34c6c9685da": {
          "model_module": "@jupyter-widgets/controls",
          "model_name": "FloatProgressModel",
          "model_module_version": "1.5.0",
          "state": {
            "_dom_classes": [],
            "_model_module": "@jupyter-widgets/controls",
            "_model_module_version": "1.5.0",
            "_model_name": "FloatProgressModel",
            "_view_count": null,
            "_view_module": "@jupyter-widgets/controls",
            "_view_module_version": "1.5.0",
            "_view_name": "ProgressView",
            "bar_style": "success",
            "description": "",
            "description_tooltip": null,
            "layout": "IPY_MODEL_953398afaf17436dbcbfd244fea9c9b3",
            "max": 1,
            "min": 0,
            "orientation": "horizontal",
            "style": "IPY_MODEL_832e2f19955d4747a4e10962664fa27c",
            "value": 1
          }
        },
        "f1103d55d0a14894996a2272d875808a": {
          "model_module": "@jupyter-widgets/controls",
          "model_name": "HTMLModel",
          "model_module_version": "1.5.0",
          "state": {
            "_dom_classes": [],
            "_model_module": "@jupyter-widgets/controls",
            "_model_module_version": "1.5.0",
            "_model_name": "HTMLModel",
            "_view_count": null,
            "_view_module": "@jupyter-widgets/controls",
            "_view_module_version": "1.5.0",
            "_view_name": "HTMLView",
            "description": "",
            "description_tooltip": null,
            "layout": "IPY_MODEL_1980e87b54864652bcf342f643e68996",
            "placeholder": "​",
            "style": "IPY_MODEL_8cce005669614db3b6220b1039f8ec04",
            "value": " 1/1 [00:00&lt;00:00, 35.41it/s]"
          }
        },
        "7859dda4dc934d8a849c029b21b7947f": {
          "model_module": "@jupyter-widgets/base",
          "model_name": "LayoutModel",
          "model_module_version": "1.2.0",
          "state": {
            "_model_module": "@jupyter-widgets/base",
            "_model_module_version": "1.2.0",
            "_model_name": "LayoutModel",
            "_view_count": null,
            "_view_module": "@jupyter-widgets/base",
            "_view_module_version": "1.2.0",
            "_view_name": "LayoutView",
            "align_content": null,
            "align_items": null,
            "align_self": null,
            "border": null,
            "bottom": null,
            "display": null,
            "flex": null,
            "flex_flow": null,
            "grid_area": null,
            "grid_auto_columns": null,
            "grid_auto_flow": null,
            "grid_auto_rows": null,
            "grid_column": null,
            "grid_gap": null,
            "grid_row": null,
            "grid_template_areas": null,
            "grid_template_columns": null,
            "grid_template_rows": null,
            "height": null,
            "justify_content": null,
            "justify_items": null,
            "left": null,
            "margin": null,
            "max_height": null,
            "max_width": null,
            "min_height": null,
            "min_width": null,
            "object_fit": null,
            "object_position": null,
            "order": null,
            "overflow": null,
            "overflow_x": null,
            "overflow_y": null,
            "padding": null,
            "right": null,
            "top": null,
            "visibility": null,
            "width": null
          }
        },
        "536c3a8555a34ecba121f86c60838590": {
          "model_module": "@jupyter-widgets/base",
          "model_name": "LayoutModel",
          "model_module_version": "1.2.0",
          "state": {
            "_model_module": "@jupyter-widgets/base",
            "_model_module_version": "1.2.0",
            "_model_name": "LayoutModel",
            "_view_count": null,
            "_view_module": "@jupyter-widgets/base",
            "_view_module_version": "1.2.0",
            "_view_name": "LayoutView",
            "align_content": null,
            "align_items": null,
            "align_self": null,
            "border": null,
            "bottom": null,
            "display": null,
            "flex": null,
            "flex_flow": null,
            "grid_area": null,
            "grid_auto_columns": null,
            "grid_auto_flow": null,
            "grid_auto_rows": null,
            "grid_column": null,
            "grid_gap": null,
            "grid_row": null,
            "grid_template_areas": null,
            "grid_template_columns": null,
            "grid_template_rows": null,
            "height": null,
            "justify_content": null,
            "justify_items": null,
            "left": null,
            "margin": null,
            "max_height": null,
            "max_width": null,
            "min_height": null,
            "min_width": null,
            "object_fit": null,
            "object_position": null,
            "order": null,
            "overflow": null,
            "overflow_x": null,
            "overflow_y": null,
            "padding": null,
            "right": null,
            "top": null,
            "visibility": null,
            "width": null
          }
        },
        "a60b40048db14cf59834fb7d66b4e2e9": {
          "model_module": "@jupyter-widgets/controls",
          "model_name": "DescriptionStyleModel",
          "model_module_version": "1.5.0",
          "state": {
            "_model_module": "@jupyter-widgets/controls",
            "_model_module_version": "1.5.0",
            "_model_name": "DescriptionStyleModel",
            "_view_count": null,
            "_view_module": "@jupyter-widgets/base",
            "_view_module_version": "1.2.0",
            "_view_name": "StyleView",
            "description_width": ""
          }
        },
        "953398afaf17436dbcbfd244fea9c9b3": {
          "model_module": "@jupyter-widgets/base",
          "model_name": "LayoutModel",
          "model_module_version": "1.2.0",
          "state": {
            "_model_module": "@jupyter-widgets/base",
            "_model_module_version": "1.2.0",
            "_model_name": "LayoutModel",
            "_view_count": null,
            "_view_module": "@jupyter-widgets/base",
            "_view_module_version": "1.2.0",
            "_view_name": "LayoutView",
            "align_content": null,
            "align_items": null,
            "align_self": null,
            "border": null,
            "bottom": null,
            "display": null,
            "flex": null,
            "flex_flow": null,
            "grid_area": null,
            "grid_auto_columns": null,
            "grid_auto_flow": null,
            "grid_auto_rows": null,
            "grid_column": null,
            "grid_gap": null,
            "grid_row": null,
            "grid_template_areas": null,
            "grid_template_columns": null,
            "grid_template_rows": null,
            "height": null,
            "justify_content": null,
            "justify_items": null,
            "left": null,
            "margin": null,
            "max_height": null,
            "max_width": null,
            "min_height": null,
            "min_width": null,
            "object_fit": null,
            "object_position": null,
            "order": null,
            "overflow": null,
            "overflow_x": null,
            "overflow_y": null,
            "padding": null,
            "right": null,
            "top": null,
            "visibility": null,
            "width": null
          }
        },
        "832e2f19955d4747a4e10962664fa27c": {
          "model_module": "@jupyter-widgets/controls",
          "model_name": "ProgressStyleModel",
          "model_module_version": "1.5.0",
          "state": {
            "_model_module": "@jupyter-widgets/controls",
            "_model_module_version": "1.5.0",
            "_model_name": "ProgressStyleModel",
            "_view_count": null,
            "_view_module": "@jupyter-widgets/base",
            "_view_module_version": "1.2.0",
            "_view_name": "StyleView",
            "bar_color": null,
            "description_width": ""
          }
        },
        "1980e87b54864652bcf342f643e68996": {
          "model_module": "@jupyter-widgets/base",
          "model_name": "LayoutModel",
          "model_module_version": "1.2.0",
          "state": {
            "_model_module": "@jupyter-widgets/base",
            "_model_module_version": "1.2.0",
            "_model_name": "LayoutModel",
            "_view_count": null,
            "_view_module": "@jupyter-widgets/base",
            "_view_module_version": "1.2.0",
            "_view_name": "LayoutView",
            "align_content": null,
            "align_items": null,
            "align_self": null,
            "border": null,
            "bottom": null,
            "display": null,
            "flex": null,
            "flex_flow": null,
            "grid_area": null,
            "grid_auto_columns": null,
            "grid_auto_flow": null,
            "grid_auto_rows": null,
            "grid_column": null,
            "grid_gap": null,
            "grid_row": null,
            "grid_template_areas": null,
            "grid_template_columns": null,
            "grid_template_rows": null,
            "height": null,
            "justify_content": null,
            "justify_items": null,
            "left": null,
            "margin": null,
            "max_height": null,
            "max_width": null,
            "min_height": null,
            "min_width": null,
            "object_fit": null,
            "object_position": null,
            "order": null,
            "overflow": null,
            "overflow_x": null,
            "overflow_y": null,
            "padding": null,
            "right": null,
            "top": null,
            "visibility": null,
            "width": null
          }
        },
        "8cce005669614db3b6220b1039f8ec04": {
          "model_module": "@jupyter-widgets/controls",
          "model_name": "DescriptionStyleModel",
          "model_module_version": "1.5.0",
          "state": {
            "_model_module": "@jupyter-widgets/controls",
            "_model_module_version": "1.5.0",
            "_model_name": "DescriptionStyleModel",
            "_view_count": null,
            "_view_module": "@jupyter-widgets/base",
            "_view_module_version": "1.2.0",
            "_view_name": "StyleView",
            "description_width": ""
          }
        },
        "9161fe52909449709a9b4a900deec0dd": {
          "model_module": "@jupyter-widgets/controls",
          "model_name": "HBoxModel",
          "model_module_version": "1.5.0",
          "state": {
            "_dom_classes": [],
            "_model_module": "@jupyter-widgets/controls",
            "_model_module_version": "1.5.0",
            "_model_name": "HBoxModel",
            "_view_count": null,
            "_view_module": "@jupyter-widgets/controls",
            "_view_module_version": "1.5.0",
            "_view_name": "HBoxView",
            "box_style": "",
            "children": [
              "IPY_MODEL_f10461a2807d473e94ef94e4da46ea0c",
              "IPY_MODEL_2ba89183fa204f3e8ae398623f062e7f",
              "IPY_MODEL_dd1b485a16eb4388ac1ab0cb0358862f"
            ],
            "layout": "IPY_MODEL_70dc0d34ce0d41daa4bc4d07b0d4f4cd"
          }
        },
        "f10461a2807d473e94ef94e4da46ea0c": {
          "model_module": "@jupyter-widgets/controls",
          "model_name": "HTMLModel",
          "model_module_version": "1.5.0",
          "state": {
            "_dom_classes": [],
            "_model_module": "@jupyter-widgets/controls",
            "_model_module_version": "1.5.0",
            "_model_name": "HTMLModel",
            "_view_count": null,
            "_view_module": "@jupyter-widgets/controls",
            "_view_module_version": "1.5.0",
            "_view_name": "HTMLView",
            "description": "",
            "description_tooltip": null,
            "layout": "IPY_MODEL_337aff6265294fcc96cfad17ffea292f",
            "placeholder": "​",
            "style": "IPY_MODEL_2c8c978a5b3a43f9b3806fa67ba7d69e",
            "value": "Adversarial training epochs: 100%"
          }
        },
        "2ba89183fa204f3e8ae398623f062e7f": {
          "model_module": "@jupyter-widgets/controls",
          "model_name": "FloatProgressModel",
          "model_module_version": "1.5.0",
          "state": {
            "_dom_classes": [],
            "_model_module": "@jupyter-widgets/controls",
            "_model_module_version": "1.5.0",
            "_model_name": "FloatProgressModel",
            "_view_count": null,
            "_view_module": "@jupyter-widgets/controls",
            "_view_module_version": "1.5.0",
            "_view_name": "ProgressView",
            "bar_style": "success",
            "description": "",
            "description_tooltip": null,
            "layout": "IPY_MODEL_7ab8c37fe7e248adba571ad94bd71202",
            "max": 5,
            "min": 0,
            "orientation": "horizontal",
            "style": "IPY_MODEL_c26c30b73a10409e9ad226400fad2bb9",
            "value": 5
          }
        },
        "dd1b485a16eb4388ac1ab0cb0358862f": {
          "model_module": "@jupyter-widgets/controls",
          "model_name": "HTMLModel",
          "model_module_version": "1.5.0",
          "state": {
            "_dom_classes": [],
            "_model_module": "@jupyter-widgets/controls",
            "_model_module_version": "1.5.0",
            "_model_name": "HTMLModel",
            "_view_count": null,
            "_view_module": "@jupyter-widgets/controls",
            "_view_module_version": "1.5.0",
            "_view_name": "HTMLView",
            "description": "",
            "description_tooltip": null,
            "layout": "IPY_MODEL_46c1bf4292854caa947e3aff9c5a2b8f",
            "placeholder": "​",
            "style": "IPY_MODEL_de35ba8583b942b292db13eb1f21b2fd",
            "value": " 5/5 [08:48&lt;00:00, 105.78s/it]"
          }
        },
        "70dc0d34ce0d41daa4bc4d07b0d4f4cd": {
          "model_module": "@jupyter-widgets/base",
          "model_name": "LayoutModel",
          "model_module_version": "1.2.0",
          "state": {
            "_model_module": "@jupyter-widgets/base",
            "_model_module_version": "1.2.0",
            "_model_name": "LayoutModel",
            "_view_count": null,
            "_view_module": "@jupyter-widgets/base",
            "_view_module_version": "1.2.0",
            "_view_name": "LayoutView",
            "align_content": null,
            "align_items": null,
            "align_self": null,
            "border": null,
            "bottom": null,
            "display": null,
            "flex": null,
            "flex_flow": null,
            "grid_area": null,
            "grid_auto_columns": null,
            "grid_auto_flow": null,
            "grid_auto_rows": null,
            "grid_column": null,
            "grid_gap": null,
            "grid_row": null,
            "grid_template_areas": null,
            "grid_template_columns": null,
            "grid_template_rows": null,
            "height": null,
            "justify_content": null,
            "justify_items": null,
            "left": null,
            "margin": null,
            "max_height": null,
            "max_width": null,
            "min_height": null,
            "min_width": null,
            "object_fit": null,
            "object_position": null,
            "order": null,
            "overflow": null,
            "overflow_x": null,
            "overflow_y": null,
            "padding": null,
            "right": null,
            "top": null,
            "visibility": null,
            "width": null
          }
        },
        "337aff6265294fcc96cfad17ffea292f": {
          "model_module": "@jupyter-widgets/base",
          "model_name": "LayoutModel",
          "model_module_version": "1.2.0",
          "state": {
            "_model_module": "@jupyter-widgets/base",
            "_model_module_version": "1.2.0",
            "_model_name": "LayoutModel",
            "_view_count": null,
            "_view_module": "@jupyter-widgets/base",
            "_view_module_version": "1.2.0",
            "_view_name": "LayoutView",
            "align_content": null,
            "align_items": null,
            "align_self": null,
            "border": null,
            "bottom": null,
            "display": null,
            "flex": null,
            "flex_flow": null,
            "grid_area": null,
            "grid_auto_columns": null,
            "grid_auto_flow": null,
            "grid_auto_rows": null,
            "grid_column": null,
            "grid_gap": null,
            "grid_row": null,
            "grid_template_areas": null,
            "grid_template_columns": null,
            "grid_template_rows": null,
            "height": null,
            "justify_content": null,
            "justify_items": null,
            "left": null,
            "margin": null,
            "max_height": null,
            "max_width": null,
            "min_height": null,
            "min_width": null,
            "object_fit": null,
            "object_position": null,
            "order": null,
            "overflow": null,
            "overflow_x": null,
            "overflow_y": null,
            "padding": null,
            "right": null,
            "top": null,
            "visibility": null,
            "width": null
          }
        },
        "2c8c978a5b3a43f9b3806fa67ba7d69e": {
          "model_module": "@jupyter-widgets/controls",
          "model_name": "DescriptionStyleModel",
          "model_module_version": "1.5.0",
          "state": {
            "_model_module": "@jupyter-widgets/controls",
            "_model_module_version": "1.5.0",
            "_model_name": "DescriptionStyleModel",
            "_view_count": null,
            "_view_module": "@jupyter-widgets/base",
            "_view_module_version": "1.2.0",
            "_view_name": "StyleView",
            "description_width": ""
          }
        },
        "7ab8c37fe7e248adba571ad94bd71202": {
          "model_module": "@jupyter-widgets/base",
          "model_name": "LayoutModel",
          "model_module_version": "1.2.0",
          "state": {
            "_model_module": "@jupyter-widgets/base",
            "_model_module_version": "1.2.0",
            "_model_name": "LayoutModel",
            "_view_count": null,
            "_view_module": "@jupyter-widgets/base",
            "_view_module_version": "1.2.0",
            "_view_name": "LayoutView",
            "align_content": null,
            "align_items": null,
            "align_self": null,
            "border": null,
            "bottom": null,
            "display": null,
            "flex": null,
            "flex_flow": null,
            "grid_area": null,
            "grid_auto_columns": null,
            "grid_auto_flow": null,
            "grid_auto_rows": null,
            "grid_column": null,
            "grid_gap": null,
            "grid_row": null,
            "grid_template_areas": null,
            "grid_template_columns": null,
            "grid_template_rows": null,
            "height": null,
            "justify_content": null,
            "justify_items": null,
            "left": null,
            "margin": null,
            "max_height": null,
            "max_width": null,
            "min_height": null,
            "min_width": null,
            "object_fit": null,
            "object_position": null,
            "order": null,
            "overflow": null,
            "overflow_x": null,
            "overflow_y": null,
            "padding": null,
            "right": null,
            "top": null,
            "visibility": null,
            "width": null
          }
        },
        "c26c30b73a10409e9ad226400fad2bb9": {
          "model_module": "@jupyter-widgets/controls",
          "model_name": "ProgressStyleModel",
          "model_module_version": "1.5.0",
          "state": {
            "_model_module": "@jupyter-widgets/controls",
            "_model_module_version": "1.5.0",
            "_model_name": "ProgressStyleModel",
            "_view_count": null,
            "_view_module": "@jupyter-widgets/base",
            "_view_module_version": "1.2.0",
            "_view_name": "StyleView",
            "bar_color": null,
            "description_width": ""
          }
        },
        "46c1bf4292854caa947e3aff9c5a2b8f": {
          "model_module": "@jupyter-widgets/base",
          "model_name": "LayoutModel",
          "model_module_version": "1.2.0",
          "state": {
            "_model_module": "@jupyter-widgets/base",
            "_model_module_version": "1.2.0",
            "_model_name": "LayoutModel",
            "_view_count": null,
            "_view_module": "@jupyter-widgets/base",
            "_view_module_version": "1.2.0",
            "_view_name": "LayoutView",
            "align_content": null,
            "align_items": null,
            "align_self": null,
            "border": null,
            "bottom": null,
            "display": null,
            "flex": null,
            "flex_flow": null,
            "grid_area": null,
            "grid_auto_columns": null,
            "grid_auto_flow": null,
            "grid_auto_rows": null,
            "grid_column": null,
            "grid_gap": null,
            "grid_row": null,
            "grid_template_areas": null,
            "grid_template_columns": null,
            "grid_template_rows": null,
            "height": null,
            "justify_content": null,
            "justify_items": null,
            "left": null,
            "margin": null,
            "max_height": null,
            "max_width": null,
            "min_height": null,
            "min_width": null,
            "object_fit": null,
            "object_position": null,
            "order": null,
            "overflow": null,
            "overflow_x": null,
            "overflow_y": null,
            "padding": null,
            "right": null,
            "top": null,
            "visibility": null,
            "width": null
          }
        },
        "de35ba8583b942b292db13eb1f21b2fd": {
          "model_module": "@jupyter-widgets/controls",
          "model_name": "DescriptionStyleModel",
          "model_module_version": "1.5.0",
          "state": {
            "_model_module": "@jupyter-widgets/controls",
            "_model_module_version": "1.5.0",
            "_model_name": "DescriptionStyleModel",
            "_view_count": null,
            "_view_module": "@jupyter-widgets/base",
            "_view_module_version": "1.2.0",
            "_view_name": "StyleView",
            "description_width": ""
          }
        }
      }
    }
  },
  "cells": [
    {
      "cell_type": "markdown",
      "source": [
        "# Практическая работа 7\n",
        "Выполнил Лялин Илья ББМО-04-20"
      ],
      "metadata": {
        "id": "6lG1JSMUZvat"
      }
    },
    {
      "cell_type": "markdown",
      "source": [
        "# Фреймворк Adversarial Robustness Toolbox"
      ],
      "metadata": {
        "id": "dTdm1ry5aVSM"
      }
    },
    {
      "cell_type": "markdown",
      "source": [
        "Adversarial Robustness Toolbox (ART) v1.14 - это фреймворк, предназначенный для создания, анализа и обработки атак на модели машинного обучения. В этом ответе мы рассмотрим ключевые аспекты ART, выберем сценарий атаки и реализуем его на платформе Google Colab.\n",
        "\n",
        "Генерация атак: ART предоставляет различные алгоритмы для генерации атак, такие как FGSM, BIM, PGD и другие."
      ],
      "metadata": {
        "id": "Y-48-q3vaWVb"
      }
    },
    {
      "cell_type": "markdown",
      "source": [
        "# Fast Gradient Sign Method (FGSM)"
      ],
      "metadata": {
        "id": "wTm267ZMabr7"
      }
    },
    {
      "cell_type": "markdown",
      "source": [
        "Основная идея FGSM заключается в следующем:\n",
        "\n",
        "Вычисляется функция потерь модели, которая измеряет, насколько хорошо модель предсказывает правильные метки для входных данных.\n",
        "\n",
        "Вычисляется градиент функции потерь по отношению к входным данным. Этот градиент показывает направление, в котором нужно изменить входные данные, чтобы увеличить ошибку модели.\n",
        "\n",
        "Входные данные изменяются в направлении знака градиента на небольшую величину, определяемую параметром 𝜖 ϵ. Это изменение делает входные данные \"враждебными\" для модели, то есть такими, которые модель будет классифицировать неправильно.\n"
      ],
      "metadata": {
        "id": "I6QhHwF3adDc"
      }
    },
    {
      "cell_type": "markdown",
      "source": [
        "# Проведение атаки с помощью сценария FGSM"
      ],
      "metadata": {
        "id": "EnfXfpePafi6"
      }
    },
    {
      "cell_type": "code",
      "source": [
        "# Устанавливаем библиотеку Adversarial Robustness Toolbox (ART) для защиты от атак на нейросети\n",
        "!pip install adversarial-robustness-toolbox\n",
        "\n",
        "import torch  # Фреймворк для работы с нейросетями\n",
        "import torch.nn as nn  # Модуль для создания нейросетевых слоёв\n",
        "import torch.nn.functional as F  # Функции активации, пулинга и т.д.\n",
        "import torch.optim as optim  # Оптимизаторы для обучения\n",
        "import numpy as np  # Работа с массивами\n",
        "from art.attacks.evasion import FastGradientMethod  # Метод атаки \"Быстрый градиентный метод\"\n",
        "from art.estimators.classification import PyTorchClassifier  # Обёртка для PyTorch-модели\n",
        "from art.utils import load_mnist  # Загрузка датасета MNIST"
      ],
      "metadata": {
        "colab": {
          "base_uri": "https://localhost:8080/"
        },
        "id": "HO3Gqkuuahkc",
        "outputId": "76f87291-f99f-4326-c339-053ab453c5b3"
      },
      "execution_count": 1,
      "outputs": [
        {
          "output_type": "stream",
          "name": "stdout",
          "text": [
            "Collecting adversarial-robustness-toolbox\n",
            "  Downloading adversarial_robustness_toolbox-1.19.1-py3-none-any.whl.metadata (11 kB)\n",
            "Requirement already satisfied: numpy>=1.18.0 in /usr/local/lib/python3.11/dist-packages (from adversarial-robustness-toolbox) (2.0.2)\n",
            "Requirement already satisfied: scipy>=1.4.1 in /usr/local/lib/python3.11/dist-packages (from adversarial-robustness-toolbox) (1.15.2)\n",
            "Requirement already satisfied: scikit-learn>=0.22.2 in /usr/local/lib/python3.11/dist-packages (from adversarial-robustness-toolbox) (1.6.1)\n",
            "Requirement already satisfied: six in /usr/local/lib/python3.11/dist-packages (from adversarial-robustness-toolbox) (1.17.0)\n",
            "Requirement already satisfied: setuptools in /usr/local/lib/python3.11/dist-packages (from adversarial-robustness-toolbox) (75.2.0)\n",
            "Requirement already satisfied: tqdm in /usr/local/lib/python3.11/dist-packages (from adversarial-robustness-toolbox) (4.67.1)\n",
            "Requirement already satisfied: joblib>=1.2.0 in /usr/local/lib/python3.11/dist-packages (from scikit-learn>=0.22.2->adversarial-robustness-toolbox) (1.4.2)\n",
            "Requirement already satisfied: threadpoolctl>=3.1.0 in /usr/local/lib/python3.11/dist-packages (from scikit-learn>=0.22.2->adversarial-robustness-toolbox) (3.6.0)\n",
            "Downloading adversarial_robustness_toolbox-1.19.1-py3-none-any.whl (1.7 MB)\n",
            "\u001b[2K   \u001b[90m━━━━━━━━━━━━━━━━━━━━━━━━━━━━━━━━━━━━━━━━\u001b[0m \u001b[32m1.7/1.7 MB\u001b[0m \u001b[31m19.1 MB/s\u001b[0m eta \u001b[36m0:00:00\u001b[0m\n",
            "\u001b[?25hInstalling collected packages: adversarial-robustness-toolbox\n",
            "Successfully installed adversarial-robustness-toolbox-1.19.1\n"
          ]
        }
      ]
    },
    {
      "cell_type": "markdown",
      "source": [
        "# Конвертация данных в формат PyTorch"
      ],
      "metadata": {
        "id": "yb4L_QkJfJBE"
      }
    },
    {
      "cell_type": "code",
      "source": [
        "(x_train, y_train), (x_test, y_test), min_pixel_value, max_pixel_value = load_mnist()  # Загружаем данные MNIST (рукописные цифры)\n",
        "x_train = np.transpose(x_train, (0, 3, 1, 2)).astype(np.float32) # Транспонируем данные из формата (N, H, W, C) в (N, C, H, W), как требует PyTorch\n",
        "x_test = np.transpose(x_test, (0, 3, 1, 2)).astype(np.float32)# Преобразуем в float32"
      ],
      "metadata": {
        "id": "fF63-9e0bljc"
      },
      "execution_count": 2,
      "outputs": []
    },
    {
      "cell_type": "markdown",
      "source": [
        "# Создание модели"
      ],
      "metadata": {
        "id": "L1pzdA-UfV2F"
      }
    },
    {
      "cell_type": "code",
      "source": [
        "# Определяем архитектуру простой свёрточной нейросети (CNN)\n",
        "class SimpleCNN(nn.Module):\n",
        "    def __init__(self):\n",
        "        super(SimpleCNN, self).__init__()\n",
        "        self.conv1 = nn.Conv2d(1, 32, kernel_size=3, stride=1, padding=1)# Первый свёрточный слой: 1 канал на вход, 32 на выход, ядро 3x3\n",
        "        self.conv2 = nn.Conv2d(32, 64, kernel_size=3, stride=1, padding=1) # Второй свёрточный слой: 32 канала на вход, 64 на выход\n",
        "        self.fc1 = nn.Linear(64 * 7 * 7, 128) # Полносвязный слой: вход 64*7*7 (после пулинга), выход 128\n",
        "        self.fc2 = nn.Linear(128, 10)# Выходной слой: 128 -> 10 (по числу классов цифр 0-9)\n",
        "\n",
        "    def forward(self, x):\n",
        "        x = F.relu(self.conv1(x))# Проход через первый свёрточный слой + ReLU + макс-пулинг (уменьшение в 2 раза)\n",
        "        x = F.max_pool2d(x, 2)\n",
        "        x = F.relu(self.conv2(x))# Проход через второй свёрточный слой + ReLU + макс-пулинг\n",
        "        x = F.max_pool2d(x, 2)\n",
        "        x = x.view(-1, 64 * 7 * 7) # \"Вытягиваем\" тензор в вектор для полносвязных слоёв\n",
        "        x = F.relu(self.fc1(x))# Полносвязные слои с активацией ReLU\n",
        "        x = self.fc2(x)\n",
        "        return x\n",
        "\n",
        "model = SimpleCNN() # Создаём экземпляр модели\n",
        "criterion = nn.CrossEntropyLoss() # Функция потерь - кросс-энтропия\n",
        "optimizer = optim.Adam(model.parameters(), lr=0.001) # Оптимизатор"
      ],
      "metadata": {
        "id": "NQpMWGltcGFi"
      },
      "execution_count": 3,
      "outputs": []
    },
    {
      "cell_type": "markdown",
      "source": [
        "# Создание классификатора для ART"
      ],
      "metadata": {
        "id": "w-clgWDFfbz7"
      }
    },
    {
      "cell_type": "code",
      "source": [
        "# Обёртка ART для PyTorch-модели (чтобы использовать атаки и защиты)\n",
        "classifier = PyTorchClassifier(\n",
        "    model=model,\n",
        "    clip_values=(min_pixel_value, max_pixel_value),  # Диапазон значений пикселей\n",
        "    loss=criterion,  # Функция потерь\n",
        "    optimizer=optimizer,  # Оптимизатор\n",
        "    input_shape=(1, 28, 28),  # Формат входных данных (1 канал, 28x28)\n",
        "    nb_classes=10,  # Число классов (10 цифр)\n",
        ")"
      ],
      "metadata": {
        "id": "XhVkqLs-cMEC"
      },
      "execution_count": 4,
      "outputs": []
    },
    {
      "cell_type": "markdown",
      "source": [
        "# Создание атаки с помощью FGSM"
      ],
      "metadata": {
        "id": "WNzB1H9Fflzu"
      }
    },
    {
      "cell_type": "code",
      "source": [
        "# Создаём атаку \"Быстрый градиентный метод\" (FGSM) с параметром eps=0.2\n",
        "attack = FastGradientMethod(estimator=classifier, eps=0.2)\n",
        "# Генерируем \"вредные\" примеры на основе тестовых данных\n",
        "x_test_adv = attack.generate(x=x_test)"
      ],
      "metadata": {
        "id": "1ke1iqJicPHT"
      },
      "execution_count": 5,
      "outputs": []
    },
    {
      "cell_type": "code",
      "source": [
        "predictions = classifier.predict(x_test_adv) # Проверяем точность модели на атакованных данных\n",
        "accuracy = np.sum(np.argmax(predictions, axis=1) == np.argmax(y_test, axis=1)) / len(y_test) # Сравниваем предсказания с истинными метками\n",
        "print(\"Точность: {:.2f}%\".format(accuracy * 100))"
      ],
      "metadata": {
        "colab": {
          "base_uri": "https://localhost:8080/"
        },
        "id": "IQ6_35Rnca91",
        "outputId": "9386bfb2-325a-4e67-c72b-b92a9ef8bef9"
      },
      "execution_count": 6,
      "outputs": [
        {
          "output_type": "stream",
          "name": "stdout",
          "text": [
            "Точность: 8.47%\n"
          ]
        }
      ]
    },
    {
      "cell_type": "markdown",
      "source": [
        "# Обучение модели"
      ],
      "metadata": {
        "id": "DO9zZnCMfzow"
      }
    },
    {
      "cell_type": "code",
      "source": [
        "from art.defences.trainer import AdversarialTrainer\n",
        "\n",
        "adv_trainer = AdversarialTrainer(classifier, attack)# Создаём \"Теда Лассо\" с защитой от атак\n",
        "\n",
        "nb_epochs = 5 # Дообучаем модель на тренировочных данных (5 эпох)\n",
        "adv_trainer.fit(x_train, y_train, nb_epochs=nb_epochs)"
      ],
      "metadata": {
        "colab": {
          "base_uri": "https://localhost:8080/",
          "height": 81,
          "referenced_widgets": [
            "c6b7683de4d24d0c9f6a1844702a7264",
            "da0fb0d74f7b4301bad4644baa9b9b53",
            "3cf585a5ce254c1daba6b34c6c9685da",
            "f1103d55d0a14894996a2272d875808a",
            "7859dda4dc934d8a849c029b21b7947f",
            "536c3a8555a34ecba121f86c60838590",
            "a60b40048db14cf59834fb7d66b4e2e9",
            "953398afaf17436dbcbfd244fea9c9b3",
            "832e2f19955d4747a4e10962664fa27c",
            "1980e87b54864652bcf342f643e68996",
            "8cce005669614db3b6220b1039f8ec04",
            "9161fe52909449709a9b4a900deec0dd",
            "f10461a2807d473e94ef94e4da46ea0c",
            "2ba89183fa204f3e8ae398623f062e7f",
            "dd1b485a16eb4388ac1ab0cb0358862f",
            "70dc0d34ce0d41daa4bc4d07b0d4f4cd",
            "337aff6265294fcc96cfad17ffea292f",
            "2c8c978a5b3a43f9b3806fa67ba7d69e",
            "7ab8c37fe7e248adba571ad94bd71202",
            "c26c30b73a10409e9ad226400fad2bb9",
            "46c1bf4292854caa947e3aff9c5a2b8f",
            "de35ba8583b942b292db13eb1f21b2fd"
          ]
        },
        "id": "xqll_gE7cjXy",
        "outputId": "6114033c-0ce1-40f0-89a9-ab8eebff2531"
      },
      "execution_count": 7,
      "outputs": [
        {
          "output_type": "display_data",
          "data": {
            "text/plain": [
              "Precompute adv samples:   0%|          | 0/1 [00:00<?, ?it/s]"
            ],
            "application/vnd.jupyter.widget-view+json": {
              "version_major": 2,
              "version_minor": 0,
              "model_id": "c6b7683de4d24d0c9f6a1844702a7264"
            }
          },
          "metadata": {}
        },
        {
          "output_type": "display_data",
          "data": {
            "text/plain": [
              "Adversarial training epochs:   0%|          | 0/5 [00:00<?, ?it/s]"
            ],
            "application/vnd.jupyter.widget-view+json": {
              "version_major": 2,
              "version_minor": 0,
              "model_id": "9161fe52909449709a9b4a900deec0dd"
            }
          },
          "metadata": {}
        }
      ]
    },
    {
      "cell_type": "markdown",
      "source": [
        "# Оценка модели после проведенного обучения"
      ],
      "metadata": {
        "id": "iQqLQlDXgD8O"
      }
    },
    {
      "cell_type": "code",
      "source": [
        "predictions_adv_trained = adv_trainer.predict(x_test_adv) # Проверяем точность на атакованных данных после защиты\n",
        "accuracy_adv_trained = np.sum(np.argmax(predictions_adv_trained, axis=1) == np.argmax(y_test, axis=1)) / len(y_test)\n",
        "print(\"Точность на атакованных данных после обучения: {:.2f}%\".format(accuracy_adv_trained * 100))\n",
        "\n",
        "predictions_clean_trained = adv_trainer.predict(x_test) # Проверяем точность на обычных данных после защиты\n",
        "accuracy_clean_trained = np.sum(np.argmax(predictions_clean_trained, axis=1) == np.argmax(y_test, axis=1)) / len(y_test)\n",
        "print(\"Точность на неатакованных данных после обучения: {:.2f}%\".format(accuracy_clean_trained * 100))"
      ],
      "metadata": {
        "colab": {
          "base_uri": "https://localhost:8080/"
        },
        "id": "LaJQZ0eoepZ4",
        "outputId": "d50f11a6-ded2-4272-b64e-7106d33c2447"
      },
      "execution_count": 12,
      "outputs": [
        {
          "output_type": "stream",
          "name": "stdout",
          "text": [
            "Точность на атакованных данных после обучения: 96.35%\n",
            "Точность на неатакованных данных после обучения: 98.75%\n"
          ]
        }
      ]
    }
  ]
}